{
  "nbformat": 4,
  "nbformat_minor": 0,
  "metadata": {
    "colab": {
      "name": "06 특징추출.ipynb",
      "provenance": [],
      "toc_visible": true,
      "authorship_tag": "ABX9TyMLcYY9NNSULAPcdT56CmbZ",
      "include_colab_link": true
    },
    "kernelspec": {
      "name": "python3",
      "display_name": "Python 3"
    }
  },
  "cells": [
    {
      "cell_type": "markdown",
      "metadata": {
        "id": "view-in-github",
        "colab_type": "text"
      },
      "source": [
        "<a href=\"https://colab.research.google.com/github/yanghyeon408/OpenCV/blob/master/06_%ED%8A%B9%EC%A7%95%EC%B6%94%EC%B6%9C.ipynb\" target=\"_parent\"><img src=\"https://colab.research.google.com/assets/colab-badge.svg\" alt=\"Open In Colab\"/></a>"
      ]
    },
    {
      "cell_type": "markdown",
      "metadata": {
        "id": "YgtYWRi5qMmy",
        "colab_type": "text"
      },
      "source": [
        "#6.1 라벨링  \n",
        "연결되어 있는 모든 화소에 같은 번호를 붙이고 다른 연결 성분에는 다른 번호를 붙임\n"
      ]
    },
    {
      "cell_type": "code",
      "metadata": {
        "id": "UxtN_bFvqQ2q",
        "colab_type": "code",
        "colab": {}
      },
      "source": [
        "def labelset(img, xs, ys, label):\n",
        "    height, width = img.shape\n",
        "    img[ys, xs] = label\n",
        "    while True:\n",
        "        cnt = 0\n",
        "\n",
        "        for y in range(1, height - 1):      #테두리는 안하려고\n",
        "            for x in range(1, width-1):\n",
        "                if img[y, x] == label:\n",
        "                    if  img[y  , x+1] == 255 :\n",
        "                        img[y  , x+1] = label; cnt = cnt + 1\n",
        "                    if  img[y-1, x+1] == 255 :\n",
        "                        img[y-1, x+1] = label; cnt = cnt + 1\n",
        "                    if  img[y-1, x  ] == 255 :\n",
        "                        img[y-1, x  ] = label; cnt = cnt + 1\n",
        "                    if  img[y-1, x-1] == 255 :\n",
        "                        img[y-1, x-1] = label; cnt = cnt + 1\n",
        "                    if  img[y  , x-1] == 255 :\n",
        "                        img[y  , x-1] = label; cnt = cnt + 1\n",
        "                    if  img[y+1, x-1] == 255 :\n",
        "                        img[y+1, x-1] = label; cnt = cnt + 1\n",
        "                    if  img[y+1, x  ] == 255 :\n",
        "                        img[y+1, x  ] = label; cnt = cnt + 1\n",
        "                    if  img[y+1, x+1] == 255 :\n",
        "                        img[y+1, x+1] = label; cnt = cnt + 1\n",
        "        if cnt == 0:\n",
        "            return (0, img)\n",
        "    return (1, img)   #0, 1별 의미는 없고 파이썬은 뭐 씨랑 달라서 보기가 안되나 암튼 그래서 해줫데\n",
        "              \n"
      ],
      "execution_count": null,
      "outputs": []
    },
    {
      "cell_type": "code",
      "metadata": {
        "id": "Oxl0yeWxkr_9",
        "colab_type": "code",
        "colab": {}
      },
      "source": [
        "def labeling(img_in, cnt):\n",
        "    height, width = img_in.shape\n",
        "    img_label = img_in.copy()\n",
        "\n",
        "    label = 100         #연결 성분의 라벨 베이스 값\n",
        "    for y in range(1, height -1):\n",
        "        for x in range(1, width -1):\n",
        "            if img_label[y, x] == 255:\n",
        "                if label >= 255:\n",
        "                    print(\"Error! too many labels\")\n",
        "                    return -1\n",
        "\n",
        "                _, img_label = labelset(img_label, x, y, label)     #python에서 _는 버릴꺼에 지정한대보통\n",
        "                label = label + 1\n",
        "    cnt = label - 100     # 100 앞에 지정해줫으니 빼는 것\n",
        "\n",
        "    return img_label, cnt"
      ],
      "execution_count": null,
      "outputs": []
    },
    {
      "cell_type": "code",
      "metadata": {
        "id": "upU5saHKtTUL",
        "colab_type": "code",
        "colab": {
          "base_uri": "https://localhost:8080/",
          "height": 273
        },
        "outputId": "554e5108-f9ef-4f92-8457-d83a1efe32fc"
      },
      "source": [
        "import cv2\n",
        "from google.colab.patches import cv2_imshow\n",
        "\n",
        "img = cv2.imread('shape.png', 0)\n",
        "cv2_imshow(img)"
      ],
      "execution_count": null,
      "outputs": [
        {
          "output_type": "display_data",
          "data": {
            "image/png": "[encoded data removed]",
            "text/plain": [
              "<PIL.Image.Image image mode=L size=256x256 at 0x7F6921F494A8>"
            ]
          },
          "metadata": {
            "tags": []
          }
        }
      ]
    },
    {
      "cell_type": "code",
      "metadata": {
        "id": "t1fnKrAOtlJY",
        "colab_type": "code",
        "colab": {
          "base_uri": "https://localhost:8080/",
          "height": 35
        },
        "outputId": "fcfb8348-b578-4df1-ac17-d071a7ede3cb"
      },
      "source": [
        "ret, bin_img = cv2.threshold(img, 128, 255, cv2.THRESH_BINARY) # 색이 검 흰 밖에 없긴 하지만 이진화 해줌\n",
        "labeled_img, cnt = labeling(bin_img, 100)\n",
        "cnt"
      ],
      "execution_count": null,
      "outputs": [
        {
          "output_type": "execute_result",
          "data": {
            "text/plain": [
              "3"
            ]
          },
          "metadata": {
            "tags": []
          },
          "execution_count": 31
        }
      ]
    },
    {
      "cell_type": "markdown",
      "metadata": {
        "id": "ujqIjG130Krf",
        "colab_type": "text"
      },
      "source": [
        "cnt = 3 이다 오브젝트의 수는 3개"
      ]
    },
    {
      "cell_type": "code",
      "metadata": {
        "id": "_5hnq8Cpt9Me",
        "colab_type": "code",
        "colab": {
          "base_uri": "https://localhost:8080/",
          "height": 35
        },
        "outputId": "5a1ed8ea-9cab-4cce-b222-d760367f99b4"
      },
      "source": [
        "#원, 세모, 네모 안의 읨의 좌표\n",
        "labeled_img[80, 100], labeled_img[160, 190], labeled_img[160, 60]"
      ],
      "execution_count": null,
      "outputs": [
        {
          "output_type": "execute_result",
          "data": {
            "text/plain": [
              "(100, 101, 102)"
            ]
          },
          "metadata": {
            "tags": []
          },
          "execution_count": 32
        }
      ]
    },
    {
      "cell_type": "markdown",
      "metadata": {
        "id": "YQ9AzWWi0OsZ",
        "colab_type": "text"
      },
      "source": [
        "openCV는 (1, 2, 3)으로나오는데 우리가 라벨을 100으로 해서 100, 101, 102ㅎ가 나옴"
      ]
    },
    {
      "cell_type": "code",
      "metadata": {
        "id": "NpGXkeoOuMAt",
        "colab_type": "code",
        "colab": {
          "base_uri": "https://localhost:8080/",
          "height": 273
        },
        "outputId": "f87b8b7b-8f02-4e04-8100-abf880c48634"
      },
      "source": [
        "cv2_imshow(labeled_img)"
      ],
      "execution_count": null,
      "outputs": [
        {
          "output_type": "display_data",
          "data": {
            "image/png": "[encoded data removed]",
            "text/plain": [
              "<PIL.Image.Image image mode=L size=256x256 at 0x7F6921F49080>"
            ]
          },
          "metadata": {
            "tags": []
          }
        }
      ]
    },
    {
      "cell_type": "code",
      "metadata": {
        "id": "ajKYZSXOyPEl",
        "colab_type": "code",
        "colab": {
          "base_uri": "https://localhost:8080/",
          "height": 35
        },
        "outputId": "3f7678eb-1089-4748-c13a-82a061d92496"
      },
      "source": [
        "cv2.imwrite('shape_labeled.png', labeled_img)"
      ],
      "execution_count": null,
      "outputs": [
        {
          "output_type": "execute_result",
          "data": {
            "text/plain": [
              "True"
            ]
          },
          "metadata": {
            "tags": []
          },
          "execution_count": 8
        }
      ]
    },
    {
      "cell_type": "code",
      "metadata": {
        "id": "ZFPgEU-zyjwv",
        "colab_type": "code",
        "colab": {}
      },
      "source": [
        "img = cv2.imread('shape.png', 0)\n",
        "ret, bin_img = cv2.threshold(img, 128, 255, cv2.THRESH_BINARY)\n",
        "cnt, labeled_img = cv2.connectedComponents(bin_img)"
      ],
      "execution_count": null,
      "outputs": []
    },
    {
      "cell_type": "code",
      "metadata": {
        "id": "rbiPRwRWy4-d",
        "colab_type": "code",
        "colab": {
          "base_uri": "https://localhost:8080/",
          "height": 35
        },
        "outputId": "e7c89c62-2b4b-4c32-b28a-c123a61a196a"
      },
      "source": [
        "labeled_img[80, 100], labeled_img[160, 190], labeled_img[160, 60]"
      ],
      "execution_count": null,
      "outputs": [
        {
          "output_type": "execute_result",
          "data": {
            "text/plain": [
              "(1, 2, 3)"
            ]
          },
          "metadata": {
            "tags": []
          },
          "execution_count": 35
        }
      ]
    },
    {
      "cell_type": "code",
      "metadata": {
        "id": "6SH3uucOzB9D",
        "colab_type": "code",
        "colab": {
          "base_uri": "https://localhost:8080/",
          "height": 35
        },
        "outputId": "c17e9abb-5ecd-4c4f-fc6d-f5de3ab93769"
      },
      "source": [
        "labeled_img.dtype"
      ],
      "execution_count": null,
      "outputs": [
        {
          "output_type": "execute_result",
          "data": {
            "text/plain": [
              "dtype('int32')"
            ]
          },
          "metadata": {
            "tags": []
          },
          "execution_count": 36
        }
      ]
    },
    {
      "cell_type": "markdown",
      "metadata": {
        "id": "Z1CiA05l0W81",
        "colab_type": "text"
      },
      "source": [
        "(1, 2, 3)은 검정이라 구분이 잘 안가서 50을 곱해줘서 (50, 100, 150)으로 만들어서 구분가게 해줌"
      ]
    },
    {
      "cell_type": "code",
      "metadata": {
        "id": "jo7ojNySzEeW",
        "colab_type": "code",
        "colab": {}
      },
      "source": [
        "labeled_img = labeled_img*50"
      ],
      "execution_count": null,
      "outputs": []
    },
    {
      "cell_type": "code",
      "metadata": {
        "id": "URXZb8RlzIgZ",
        "colab_type": "code",
        "colab": {
          "base_uri": "https://localhost:8080/",
          "height": 273
        },
        "outputId": "365ba6da-9fd9-4a60-96d1-a8e05b5a714c"
      },
      "source": [
        "import numpy as np\n",
        "\n",
        "cv2_imshow(labeled_img.astype(np.uint8))"
      ],
      "execution_count": null,
      "outputs": [
        {
          "output_type": "display_data",
          "data": {
            "image/png": "[encoded data removed]",
            "text/plain": [
              "<PIL.Image.Image image mode=L size=256x256 at 0x7F6921F49198>"
            ]
          },
          "metadata": {
            "tags": []
          }
        }
      ]
    },
    {
      "cell_type": "markdown",
      "metadata": {
        "id": "ydcsD1rP6Mqp",
        "colab_type": "text"
      },
      "source": [
        "##6.1.1 특징 파라미터 추출"
      ]
    },
    {
      "cell_type": "markdown",
      "metadata": {
        "id": "r9t2CRLj6Ti2",
        "colab_type": "text"
      },
      "source": [
        "##6.1.2 면적과 중심 위치  \n",
        "면적 : 물체에 포함된 화소 수를 계산합니다.   \n",
        "중심 : 백색 화소의 위치 𝒙𝒊 , 𝒚𝒊 (𝒊 = 𝟎, … , 𝒏 − 𝟏)의 평균값을 계산합니다\n"
      ]
    },
    {
      "cell_type": "code",
      "metadata": {
        "id": "77Yus4sZ6X0k",
        "colab_type": "code",
        "colab": {}
      },
      "source": [
        "def calc_size(image_label, label):\n",
        "    tx, ty = 0, 0\n",
        "    cx, cy = 0, 0   #반환할 중심점\n",
        "    total = 0\n",
        "    height, width = image_label.shape\n",
        "    for y in range(height):\n",
        "        for x in range(width):\n",
        "            if image_label[y, x] == label:\n",
        "                tx = tx + x\n",
        "                ty = ty + y\n",
        "                total = total + 1\n",
        "    if total == 0:\n",
        "        return 0\n",
        "    cx = int(tx/total)\n",
        "    cy = int(ty/total)\n",
        "    return (cx, cy, total)"
      ],
      "execution_count": null,
      "outputs": []
    },
    {
      "cell_type": "code",
      "metadata": {
        "id": "m9kub3C3-t7g",
        "colab_type": "code",
        "colab": {
          "base_uri": "https://localhost:8080/",
          "height": 71
        },
        "outputId": "8167834f-9c7d-411a-8904-463080de9968"
      },
      "source": [
        "img = cv2.imread('shape.png', 0)\n",
        "ret, bin_img = cv2.threshold(img, 128, 255, cv2.THRESH_BINARY)\n",
        "labeled_img, cnt = labeling(bin_img, 100)\n",
        "for i in range(cnt):\n",
        "    cx, cy, area = calc_size(labeled_img, i+100)   #100을 더하는 이유는 우리가 라벨에 100을 해놔서\n",
        "    print(cx, cy, area)"
      ],
      "execution_count": null,
      "outputs": [
        {
          "output_type": "stream",
          "text": [
            "114 79 4880\n",
            "192 168 1108\n",
            "81 163 2759\n"
          ],
          "name": "stdout"
        }
      ]
    },
    {
      "cell_type": "markdown",
      "metadata": {
        "id": "ScsTKCEe_Zfj",
        "colab_type": "text"
      },
      "source": [
        "##6.1.2 주위 길이"
      ]
    },
    {
      "cell_type": "markdown",
      "metadata": {
        "id": "5Q_dndYuGS-A",
        "colab_type": "text"
      },
      "source": [
        "처음 100 위치를 찾은다음 그 전위치가 주목 화소가 되서 [x-1, y 값이 전달 된다]  그니깐 라벨이 얼마인지를 읽으려면 [y, x+1]값을 읽어야한다  \n",
        "파이썬은 swith 없어서 아래구문으로 내려가려고 if 다음에 else 로  \n",
        "vector = 5 에서 주위 화소 비교하고 레이블된게 없으면 다음으로 넘어간다  "
      ]
    },
    {
      "cell_type": "code",
      "metadata": {
        "id": "Op1eK37XGn2E",
        "colab_type": "code",
        "colab": {}
      },
      "source": [
        "import numpy as np\n",
        "\n",
        "\n",
        "def trace(image_label, xs, ys):\n",
        "    length = 0\n",
        "    x, y = xs, ys\n",
        "    no = image_label[y, x+1]\n",
        "    vector = 5\n",
        "\n",
        "    while True:\n",
        "        if (x == xs) & (y == ys) & (length != 0):\n",
        "            return length\n",
        "        image_label[y, x] = 255\n",
        "\n",
        "        if vector == 3:\n",
        "            if (image_label[y, x+1] != no) & (image_label[y-1, x+1] == no):\n",
        "                x = x + 1\n",
        "                y = y\n",
        "                length = length + 1\n",
        "                vector = 0\n",
        "                continue\n",
        "            else:\n",
        "                vector = 4\n",
        "        if vector == 4:\n",
        "            if (image_label[y-1, x+1] != no) & (image_label[y-1, x] == no):\n",
        "                x = x + 1\n",
        "                y = y -1\n",
        "                length = length + np.sqrt(2)\n",
        "                vector = 1\n",
        "                continue\n",
        "            else:\n",
        "                vector = 5\n",
        "        if vector == 5:\n",
        "            if (image_label[y-1, x] != no) & (image_label[y-1, x-1] == no):\n",
        "                x = x\n",
        "                y = y -1\n",
        "                length = length + 1\n",
        "                vector = 2\n",
        "                continue\n",
        "            else:\n",
        "                vector = 6\n",
        "        if vector == 5:\n",
        "            if (image_label[y-1, x] != no) & (image_label[y-1, x-1] == no):\n",
        "                x = x\n",
        "                y = y -1\n",
        "                length = length + 1\n",
        "                vector = 2\n",
        "                continue\n",
        "            else:\n",
        "                vector = 6\n",
        "        if vector == 6:\n",
        "            if (image_label[y-1, x-1] != no) & (image_label[y, x-1] == no):\n",
        "                x = x -1\n",
        "                y = y -1\n",
        "                length = length + np.sqrt(2)\n",
        "                vector = 3\n",
        "                continue\n",
        "            else:\n",
        "                vector = 7\n",
        "        if vector == 7:\n",
        "            if (image_label[y, x-1] != no) & (image_label[y+1, x-1] == no):\n",
        "                x = x -1\n",
        "                y = y \n",
        "                length = length + 1\n",
        "                vector = 4\n",
        "                continue\n",
        "            else:\n",
        "                vector = 0\n",
        "        if vector == 0:\n",
        "            if (image_label[y+1, x-1] != no) & (image_label[y+1, x] == no):\n",
        "                x = x -1\n",
        "                y = y +1\n",
        "                length = length + np.sqrt(2)\n",
        "                vector = 5\n",
        "                continue\n",
        "            else:\n",
        "                vector = 1\n",
        "        if vector == 1:\n",
        "            if (image_label[y+1, x] != no) & (image_label[y+1, x+1] == no):\n",
        "                x = x \n",
        "                y = y + 1\n",
        "                length = length + 1\n",
        "                vector = 6\n",
        "                continue\n",
        "            else:\n",
        "                vector = 2\n",
        "        if vector == 2:\n",
        "            if (image_label[y+1, x+1] != no) & (image_label[y, x+1] == no):\n",
        "                x = x +1\n",
        "                y = y +1\n",
        "                length = length + np.sqrt(2)\n",
        "                vector = 7\n",
        "                continue\n",
        "            else:\n",
        "                vector = 3"
      ],
      "execution_count": null,
      "outputs": []
    },
    {
      "cell_type": "code",
      "metadata": {
        "id": "TBqgGrJWPefh",
        "colab_type": "code",
        "colab": {}
      },
      "source": [
        "def calc_length(image_label, label):\n",
        "    height, width = image_label.shape\n",
        "    for y in range(height):\n",
        "        for x in range(width):\n",
        "            if image_label[y,x] == label:\n",
        "                length = trace(image_label, x -1, y)\n",
        "                return length"
      ],
      "execution_count": null,
      "outputs": []
    },
    {
      "cell_type": "code",
      "metadata": {
        "id": "CHj1_veYP03l",
        "colab_type": "code",
        "colab": {}
      },
      "source": [
        "def features(image_label, cnt):\n",
        "    areas = []; centers = []; lengths = []; ratios = []\n",
        "\n",
        "    for i in range(cnt):\n",
        "        cx, cy, area = calc_size(image_label, i + 100)\n",
        "        centers.append((cx, cy))\n",
        "        areas.append(area)\n",
        "        print(i+100, cx, cy, area, end=\" \")\n",
        "        length = calc_length(image_label, i + 100)\n",
        "        lengths.append(length)\n",
        "        ratio = 4*np.pi*area / (length*length)\n",
        "        print(length, ratio)\n",
        "    return (areas, centers, lengths, ratios)"
      ],
      "execution_count": null,
      "outputs": []
    },
    {
      "cell_type": "code",
      "metadata": {
        "id": "8KmnnIe2Qm8l",
        "colab_type": "code",
        "colab": {
          "base_uri": "https://localhost:8080/",
          "height": 71
        },
        "outputId": "e61e20bf-9a94-4bee-f36c-5c85b1327c14"
      },
      "source": [
        "img = cv2.imread('shape.png', 0)\n",
        "ret, bin_img = cv2.threshold(img, 128, 255, cv2.THRESH_BINARY)\n",
        "labeled_img, cnt = labeling(bin_img, 100)\n",
        "feat = features(labeled_img, cnt)\n"
      ],
      "execution_count": null,
      "outputs": [
        {
          "output_type": "stream",
          "text": [
            "100 114 79 4880 263.7645019878176 0.8814486001080429\n",
            "101 192 168 1108 168.2253967444163 0.49200158512447256\n",
            "102 81 163 2759 241.6568542494924 0.5936949146124189\n"
          ],
          "name": "stdout"
        }
      ]
    },
    {
      "cell_type": "markdown",
      "metadata": {
        "id": "hptevxYPyAXL",
        "colab_type": "text"
      },
      "source": [
        "라벨, cx, cy, area, length, ratio  \n",
        "ratio 가 1 에 가까울 수록 원모양 이다"
      ]
    },
    {
      "cell_type": "markdown",
      "metadata": {
        "id": "I0R5iMULuTtL",
        "colab_type": "text"
      },
      "source": [
        "##6.1.3 Contour"
      ]
    },
    {
      "cell_type": "code",
      "metadata": {
        "id": "rjoZQ9dgzJff",
        "colab_type": "code",
        "colab": {
          "base_uri": "https://localhost:8080/",
          "height": 217
        },
        "outputId": "a312d62e-3840-4841-fdba-a497df3efee8"
      },
      "source": [
        "import numpy as np\n",
        "import cv2\n",
        "\n",
        "img = cv2.imread('rectangle.jpg')\n",
        "imgray = cv2.cvtColor(img, cv2.COLOR_BGR2GRAY)\n",
        "\n",
        "#thresold 를 이용하여 binary image로 변환\n",
        "ret, thresh = cv2.threshold(imgray, 127, 255, 0)\n",
        "\n",
        "#contours는 point의 list 형태\n",
        "#예제에서는 사각형이 하나의 contours line을 구성하기 때문에\n",
        "#len(contours) = 1, 값은 사각형의 꼭지점 좌표\n",
        "#hierachy는 contours line의 계층구조\n",
        "contours, hierachy = cv2.findContours(thresh, cv2.RETR_TREE, cv2.CHAIN_APPROX_SIMPLE)\n",
        "\n",
        "image = cv2.drawContours(img, contours, -1, (0, 255, 0), 3)\n",
        "\n",
        "from google.colab.patches import cv2_imshow\n",
        "cv2_imshow(image)"
      ],
      "execution_count": null,
      "outputs": [
        {
          "output_type": "display_data",
          "data": {
            "image/png": "[encoded data removed]",
            "text/plain": [
              "<PIL.Image.Image image mode=RGB size=300x200 at 0x7F2C32DEEB70>"
            ]
          },
          "metadata": {
            "tags": []
          }
        }
      ]
    },
    {
      "cell_type": "markdown",
      "metadata": {
        "id": "d3HRNqU-1Nsy",
        "colab_type": "text"
      },
      "source": [
        "##6.1.4 moments"
      ]
    },
    {
      "cell_type": "code",
      "metadata": {
        "id": "iSMNw9nR1LAk",
        "colab_type": "code",
        "colab": {
          "base_uri": "https://localhost:8080/",
          "height": 55
        },
        "outputId": "19af499a-d1f3-459d-9763-858ce3999542"
      },
      "source": [
        "import numpy as np\n",
        "import cv2\n",
        "\n",
        "img = cv2.imread('rectangle.jpg')\n",
        "imgray = cv2.cvtColor(img, cv2.COLOR_BGR2GRAY)\n",
        "ret, thresh = cv2.threshold(imgray, 127, 255, 0)\n",
        "\n",
        "contours, hierachy = cv2.findContours(thresh, cv2.RETR_TREE, cv2.CHAIN_APPROX_SIMPLE)\n",
        "\n",
        "#첫번째 contours의 moment특징 추출\n",
        "cnt = contours[0]\n",
        "M = cv2.moments(cnt)\n",
        "\n",
        "print(M.items())"
      ],
      "execution_count": null,
      "outputs": [
        {
          "output_type": "stream",
          "text": [
            "dict_items([('m00', 16728.0), ('m10', 2308464.0), ('m01', 1555704.0), ('m20', 376580736.0), ('m11', 214687152.0), ('m02', 154053728.0), ('m30', 67979647872.0), ('m21', 35022008448.0), ('m12', 21259414464.0), ('m03', 16070422320.0), ('mu20', 58012704.0), ('mu11', 0.0), ('mu02', 9373256.0), ('mu30', 0.0), ('mu21', 0.0), ('mu12', 0.0), ('mu03', 0.0), ('nu20', 0.20731707317073172), ('nu11', 0.0), ('nu02', 0.0334967320261438), ('nu30', 0.0), ('nu21', 0.0), ('nu12', 0.0), ('nu03', 0.0)])\n"
          ],
          "name": "stdout"
        }
      ]
    },
    {
      "cell_type": "code",
      "metadata": {
        "id": "tIlUneTx3DIZ",
        "colab_type": "code",
        "colab": {
          "base_uri": "https://localhost:8080/",
          "height": 35
        },
        "outputId": "35860b02-d0a1-410b-d3d0-5c30c3414d7c"
      },
      "source": [
        "cv2.contourArea(cnt)"
      ],
      "execution_count": null,
      "outputs": [
        {
          "output_type": "execute_result",
          "data": {
            "text/plain": [
              "16728.0"
            ]
          },
          "metadata": {
            "tags": []
          },
          "execution_count": 4
        }
      ]
    },
    {
      "cell_type": "code",
      "metadata": {
        "id": "JzJ0yACy3Hw0",
        "colab_type": "code",
        "colab": {
          "base_uri": "https://localhost:8080/",
          "height": 35
        },
        "outputId": "a6f801dc-75de-41f3-87fe-f19f3c52b7f5"
      },
      "source": [
        "cv2.arcLength(cnt, True)"
      ],
      "execution_count": null,
      "outputs": [
        {
          "output_type": "execute_result",
          "data": {
            "text/plain": [
              "572.0"
            ]
          },
          "metadata": {
            "tags": []
          },
          "execution_count": 5
        }
      ]
    },
    {
      "cell_type": "code",
      "metadata": {
        "id": "oHIc7tPG3LgM",
        "colab_type": "code",
        "colab": {
          "base_uri": "https://localhost:8080/",
          "height": 35
        },
        "outputId": "9bc5acd8-2498-41d7-f9a5-ddceba91eb1b"
      },
      "source": [
        "cv2.arcLength(cnt, False)"
      ],
      "execution_count": null,
      "outputs": [
        {
          "output_type": "execute_result",
          "data": {
            "text/plain": [
              "368.0"
            ]
          },
          "metadata": {
            "tags": []
          },
          "execution_count": 6
        }
      ]
    },
    {
      "cell_type": "markdown",
      "metadata": {
        "id": "VV_k2ljS5Iom",
        "colab_type": "text"
      },
      "source": [
        "6.3.3. contour approximation"
      ]
    },
    {
      "cell_type": "code",
      "metadata": {
        "id": "FmN_0W323OQa",
        "colab_type": "code",
        "colab": {
          "base_uri": "https://localhost:8080/",
          "height": 116
        },
        "outputId": "d08c1d72-1bd2-423b-9d2b-d265a38ff25b"
      },
      "source": [
        "import cv2\n",
        "import numpy as np\n",
        "from matplotlib import pyplot as plt\n",
        "\n",
        "img = cv2.imread('bad_rectangle.png')\n",
        "img1 = img.copy()\n",
        "img2 = img.copy()\n",
        "\n",
        "imgray = cv2.cvtColor(img, cv2.COLOR_BGR2GRAY)\n",
        "ret, thresh = cv2.threshold(imgray, 127, 255, 0)\n",
        "\n",
        "contours, hierachy = cv2.findContours(thresh, cv2.RETR_TREE, cv2.CHAIN_APPROX_SIMPLE)\n",
        "cnt = contours[0]\n",
        "\n",
        "#적용하는 숫자가 커질 수록 point의 갯수는 감소\n",
        "epsilon1 = 0.01*cv2.arcLength(cnt, True)    #1% 오차허용?\n",
        "epsilon2 = 0.1*cv2.arcLength(cnt, True)     #10%\n",
        "\n",
        "approx1 = cv2.approxPolyDP(cnt, epsilon1, True)\n",
        "approx2 = cv2.approxPolyDP(cnt, epsilon2, True)\n",
        "\n",
        "cv2.drawContours(img, [cnt], 0, (0, 255, 0), 3)   #215개의 point\n",
        "cv2.drawContours(img1, [approx1], 0, (0, 255, 0), 3)    #21개의 point\n",
        "cv2.drawContours(img2, [approx2], 0, (0, 255, 0), 3)    #4개의 point\n",
        "\n",
        "titles = ['Original', '1%', '10%']\n",
        "images = [img, img1, img2]\n",
        "\n",
        "for i in range(3):\n",
        "    plt.subplot(1, 3, i +1), plt.title(titles[i]), plt.imshow(images[i])\n",
        "    plt.xticks([]), plt.yticks([])\n",
        "\n",
        "plt.show()\n"
      ],
      "execution_count": null,
      "outputs": [
        {
          "output_type": "display_data",
          "data": {
            "image/png": "[encoded data removed]",
            "text/plain": [
              "<Figure size 432x288 with 3 Axes>"
            ]
          },
          "metadata": {
            "tags": []
          }
        }
      ]
    },
    {
      "cell_type": "code",
      "metadata": {
        "id": "qsDPvjmj7hPg",
        "colab_type": "code",
        "colab": {
          "base_uri": "https://localhost:8080/",
          "height": 149
        },
        "outputId": "b8235f1d-3c3b-4fb3-8386-ed58afc24fd4"
      },
      "source": [
        "import cv2\n",
        "import numpy as np\n",
        "from matplotlib import pyplot as plt\n",
        "\n",
        "img = cv2.imread('original.png')\n",
        "img1 = img.copy()\n",
        "img2 = img.copy()\n",
        "\n",
        "imgray = cv2.cvtColor(img, cv2.COLOR_BGR2GRAY)\n",
        "ret, thresh = cv2.threshold(imgray, 127, 255, 0)\n",
        "\n",
        "contours, hierachy = cv2.findContours(thresh, cv2.RETR_TREE, cv2.CHAIN_APPROX_SIMPLE)\n",
        "cnt = contours[0]\n",
        "\n",
        "#적용하는 숫자가 커질 수록 point의 갯수는 감소\n",
        "epsilon1 = 0.01*cv2.arcLength(cnt, True)    #1% 오차허용?\n",
        "epsilon2 = 0.1*cv2.arcLength(cnt, True)     #10%\n",
        "\n",
        "approx1 = cv2.approxPolyDP(cnt, epsilon1, True)\n",
        "approx2 = cv2.approxPolyDP(cnt, epsilon2, True)\n",
        "\n",
        "cv2.drawContours(img, [cnt], 0, (0, 255, 0), 3)   #215개의 point\n",
        "cv2.drawContours(img1, [approx1], 0, (0, 255, 0), 3)    #21개의 point\n",
        "cv2.drawContours(img2, [approx2], 0, (0, 255, 0), 3)    #4개의 point\n",
        "\n",
        "titles = ['Original', '1%', '10%']\n",
        "images = [img, img1, img2]\n",
        "\n",
        "for i in range(3):\n",
        "    plt.subplot(1, 3, i +1), plt.title(titles[i]), plt.imshow(images[i])\n",
        "    plt.xticks([]), plt.yticks([])\n",
        "\n",
        "plt.show()"
      ],
      "execution_count": null,
      "outputs": [
        {
          "output_type": "display_data",
          "data": {
            "image/png": "[encoded data removed]",
            "text/plain": [
              "<Figure size 432x288 with 3 Axes>"
            ]
          },
          "metadata": {
            "tags": []
          }
        }
      ]
    },
    {
      "cell_type": "markdown",
      "metadata": {
        "id": "4RFlSI29BlX1",
        "colab_type": "text"
      },
      "source": [
        "#6.2 Bounding box\n"
      ]
    },
    {
      "cell_type": "markdown",
      "metadata": {
        "id": "Ja1VSu1SCID6",
        "colab_type": "text"
      },
      "source": [
        "##6.2.1 bounding Rectangle, Circle, Ellipse"
      ]
    },
    {
      "cell_type": "code",
      "metadata": {
        "id": "6a8iiySXCPDG",
        "colab_type": "code",
        "colab": {
          "base_uri": "https://localhost:8080/",
          "height": 203
        },
        "outputId": "f0efe492-a078-4536-b693-10f75ff6f056"
      },
      "source": [
        "import cv2\n",
        "import numpy as np\n",
        "import matplotlib.pyplot as plt\n",
        "\n",
        "img = cv2.imread('lightning.png')\n",
        "img1 = img.copy()\n",
        "\n",
        "imgray = cv2.cvtColor(img, cv2.COLOR_BGR2GRAY)\n",
        "ret, thresh = cv2.threshold(imgray, 127, 255, 0)\n",
        "\n",
        "contours, hierachy = cv2.findContours(thresh, cv2.RETR_TREE, cv2.CHAIN_APPROX_SIMPLE)\n",
        "\n",
        "cnt = contours[1]\n",
        "\n",
        "#straight rectangle\n",
        "x, y, w, h = cv2.boundingRect(cnt)\n",
        "img1 = cv2.rectangle(img1, (x, y), (x+2, y+h), (0, 255, 0), 3)  #green\n",
        "\n",
        "# rotated rectangle\n",
        "rect = cv2.minAreaRect(cnt)\n",
        "box = cv2.boxPoints(rect)\n",
        "box = np.int0(box)\n",
        "img1 = cv2.drawContours(img1, [box], 0, (0, 0, 255), 3)   #blue\n",
        "\n",
        "# minimum enclosing circle\n",
        "(x, y), radius = cv2.minEnclosingCircle(cnt)\n",
        "center = (int(x), int(y))\n",
        "radius = int(radius)\n",
        "img1 = cv2.circle(img1, center, radius, (255, 255, 0), 3)   #yellow\n",
        "\n",
        "# fitting an ellipse\n",
        "ellipse = cv2.fitEllipse(cnt)\n",
        "img1 = cv2.ellipse(img1, ellipse, (255, 0, 0), 3)   #red\n",
        "\n",
        "titles = ['Original', 'Result']\n",
        "images = [img, img1]\n",
        "\n",
        "for i in range(2):\n",
        "    plt.subplot(1, 2, i+1), plt.title(titles[i]), plt.imshow(images[i])\n",
        "    plt.xticks([]), plt.yticks([])\n",
        "\n",
        "plt.show()"
      ],
      "execution_count": null,
      "outputs": [
        {
          "output_type": "display_data",
          "data": {
            "image/png": "[encoded data removed]",
            "text/plain": [
              "<Figure size 432x288 with 2 Axes>"
            ]
          },
          "metadata": {
            "tags": []
          }
        }
      ]
    },
    {
      "cell_type": "markdown",
      "metadata": {
        "id": "8sDjHgYeFtQh",
        "colab_type": "text"
      },
      "source": [
        "##6.2.2 Contour Property"
      ]
    },
    {
      "cell_type": "markdown",
      "metadata": {
        "id": "y7otmOrzKB9L",
        "colab_type": "text"
      },
      "source": [
        "#6.3 Convex Hull"
      ]
    },
    {
      "cell_type": "markdown",
      "metadata": {
        "id": "qIqVZZ7sKX_6",
        "colab_type": "text"
      },
      "source": [
        "##6.3.1 Convex Hull  \n",
        "Contours point를 모두 포함하는 볼록한 외관선을 의미  \n",
        "Contour Approximation과 유사한 결과지만, 방법은 전혀 다름"
      ]
    },
    {
      "cell_type": "code",
      "metadata": {
        "id": "JsJKrJxpKFCN",
        "colab_type": "code",
        "colab": {
          "base_uri": "https://localhost:8080/",
          "height": 152
        },
        "outputId": "4708db58-d84a-4b7a-e2b6-f6d8fd66b6fb"
      },
      "source": [
        "import cv2\n",
        "import numpy as np\n",
        "import matplotlib.pyplot as plt\n",
        "\n",
        "img = cv2.imread('hand.png')\n",
        "img1 = img.copy()\n",
        "\n",
        "imgray = cv2.cvtColor(img, cv2.COLOR_BGR2GRAY)\n",
        "ret, thresh = cv2.threshold(imgray, 127, 255, 0)\n",
        "\n",
        "contours, hierachy = cv2.findContours(thresh, cv2.RETR_TREE, cv2.CHAIN_APPROX_SIMPLE)\n",
        "\n",
        "cnt = contours[1]   #1이 손 모양 주변의 contour\n",
        "hull = cv2.convexHull(cnt)\n",
        "\n",
        "cv2.drawContours(img1, [hull], 0, (0, 255, 0), 3)\n",
        "\n",
        "titles = ['Original', 'Convex Hull']\n",
        "images = [img, img1]\n",
        "\n",
        "for i in range(2):\n",
        "    plt.subplot(1, 2, i+1), plt.title(titles[i]), plt.imshow(images[i])\n",
        "    plt.xticks([]), plt.yticks([])\n",
        "\n",
        "plt.show()"
      ],
      "execution_count": null,
      "outputs": [
        {
          "output_type": "display_data",
          "data": {
            "image/png": "[encoded data removed]",
            "text/plain": [
              "<Figure size 432x288 with 2 Axes>"
            ]
          },
          "metadata": {
            "tags": []
          }
        }
      ]
    },
    {
      "cell_type": "code",
      "metadata": {
        "id": "Y29b0_T3YYoE",
        "colab_type": "code",
        "colab": {
          "base_uri": "https://localhost:8080/",
          "height": 35
        },
        "outputId": "fc806eef-dcb9-415f-def3-e8ed954cc5a9"
      },
      "source": [
        "print(len(contours))"
      ],
      "execution_count": null,
      "outputs": [
        {
          "output_type": "stream",
          "text": [
            "1\n"
          ],
          "name": "stdout"
        }
      ]
    },
    {
      "cell_type": "markdown",
      "metadata": {
        "id": "ZCgZKEejLk3l",
        "colab_type": "text"
      },
      "source": [
        "##6.3.2 Checking Convexity"
      ]
    },
    {
      "cell_type": "markdown",
      "metadata": {
        "id": "hhTHfKU_MEaj",
        "colab_type": "text"
      },
      "source": [
        "cv2.isContourConvex() 함수는 contour가 convex인지 아닌지 판단  \n",
        "convex란 contour line이 볼록하거나 최소한 평평한 것을 말함  \n",
        "첫번째 이미지는 전체 외곽선(사각형) contour 이고 두번째는 손모양의 contour line이다"
      ]
    },
    {
      "cell_type": "code",
      "metadata": {
        "id": "AaiK6UwhL1HS",
        "colab_type": "code",
        "colab": {
          "base_uri": "https://localhost:8080/",
          "height": 35
        },
        "outputId": "84801271-329c-480f-a98a-79e6a78c10ee"
      },
      "source": [
        "cv2.isContourConvex(contours[0])"
      ],
      "execution_count": null,
      "outputs": [
        {
          "output_type": "execute_result",
          "data": {
            "text/plain": [
              "True"
            ]
          },
          "metadata": {
            "tags": []
          },
          "execution_count": 15
        }
      ]
    },
    {
      "cell_type": "code",
      "metadata": {
        "id": "w8wog5qFMABN",
        "colab_type": "code",
        "colab": {
          "base_uri": "https://localhost:8080/",
          "height": 35
        },
        "outputId": "3abdcb38-96de-4920-b318-be48a7592611"
      },
      "source": [
        "cv2.isContourConvex(contours[1])"
      ],
      "execution_count": null,
      "outputs": [
        {
          "output_type": "execute_result",
          "data": {
            "text/plain": [
              "False"
            ]
          },
          "metadata": {
            "tags": []
          },
          "execution_count": 16
        }
      ]
    },
    {
      "cell_type": "markdown",
      "metadata": {
        "id": "OQrChd_JNlKL",
        "colab_type": "text"
      },
      "source": [
        "손가락 마디가 들어가니깐 오목한 부분이 있으니깐 볼록하냐고 물었는데 false 리턴"
      ]
    },
    {
      "cell_type": "code",
      "metadata": {
        "id": "SrTM9A9DNz2A",
        "colab_type": "code",
        "colab": {
          "base_uri": "https://localhost:8080/",
          "height": 348
        },
        "outputId": "4917acc2-79f9-4d76-cd24-15418cafcd6b"
      },
      "source": [
        "import cv2\n",
        "import numpy as np\n",
        "\n",
        "img = cv2.imread('hand.jpg')\n",
        "img2 = img.copy()\n",
        "\n",
        "gray = cv2.cvtColor(img, cv2.COLOR_BGR2GRAY)\n",
        "ret, thresh = cv2.threshold(gray, 127, 255, cv2.THRESH_BINARY_INV)\n",
        "\n",
        "contours, hierachy = cv2.findContours(thresh, cv2.RETR_EXTERNAL, cv2.CHAIN_APPROX_SIMPLE)\n",
        "\n",
        "cntr = contours[0]\n",
        "cv2.drawContours(img, [cntr], -1, (0, 255, 0), 1)\n",
        "\n",
        "#볼록 선체 찾기(좌표기준)와 그리기\n",
        "hull = cv2.convexHull(cntr)\n",
        "cv2.drawContours(img2, [hull], -1, (0, 255, 0), 1)\n",
        "\n",
        "print(cv2.isContourConvex(cntr), cv2.isContourConvex(hull))\n",
        "\n",
        "#볼록 선체 찾기(인덱스 기준)\n",
        "hull2 = cv2.convexHull(cntr, returnPoints=False)\n",
        "\n",
        "#볼록 선체 결함 찾기\n",
        "defects = cv2.convexityDefects(cntr, hull2)\n",
        "print(defects.shape[0])\n",
        "for i in range(defects.shape[0]):\n",
        "    startP, endP, farthestP, distance = defects[i, 0]\n",
        "    farthest = tuple(cntr[farthestP][0])\n",
        "    dist = distance / 256.0\n",
        "    if dist > 1:\n",
        "        # 빨간색 점 표시\n",
        "        cv2.circle(img2, farthest, 3, (0, 0, 255), -1)\n",
        "\n",
        "cv2_imshow(img)"
      ],
      "execution_count": null,
      "outputs": [
        {
          "output_type": "stream",
          "text": [
            "False True\n",
            "19\n"
          ],
          "name": "stdout"
        },
        {
          "output_type": "display_data",
          "data": {
            "image/png": "[encoded data removed]",
            "text/plain": [
              "<PIL.Image.Image image mode=RGB size=269x295 at 0x7F2C317E5898>"
            ]
          },
          "metadata": {
            "tags": []
          }
        }
      ]
    },
    {
      "cell_type": "markdown",
      "metadata": {
        "id": "bUlKz_oEZHVb",
        "colab_type": "text"
      },
      "source": [
        "도형 매칭으로 비슷한 도형찾기"
      ]
    },
    {
      "cell_type": "markdown",
      "metadata": {
        "id": "4Fbd3__L-DDP",
        "colab_type": "text"
      },
      "source": [
        ""
      ]
    },
    {
      "cell_type": "markdown",
      "metadata": {
        "id": "ODu1OEos7uqk",
        "colab_type": "text"
      },
      "source": [
        "#6.4 푸리에 변환"
      ]
    },
    {
      "cell_type": "markdown",
      "metadata": {
        "id": "QHOcpQ4O_bMO",
        "colab_type": "text"
      },
      "source": [
        "주변 픽셀과의 밝기 변화가 많은 곳은 고주파로, 변화가 적은 곳은 저주파로 표현 가능  \n",
        "이미지에서 고주파의 의미는 경계선을 의미하고, 저주파는 배경을 의미"
      ]
    },
    {
      "cell_type": "code",
      "metadata": {
        "id": "Xcc6rj9N7zLY",
        "colab_type": "code",
        "colab": {
          "base_uri": "https://localhost:8080/",
          "height": 268
        },
        "outputId": "c5826da4-680c-431f-a952-b16e5277f4b3"
      },
      "source": [
        "import cv2\n",
        "import numpy as np\n",
        "import matplotlib.pyplot as plt\n",
        "\n",
        "\n",
        "img = cv2.imread(\"lena.jpg\")\n",
        "b, g, r = cv2.split(img)\n",
        "img = cv2.merge([r, g, b])\n",
        "img = cv2.cvtColor(img, cv2.COLOR_BGR2GRAY)\n",
        "\n",
        "\"\"\"\n",
        "Fourier Transform 을 적용\n",
        "적용하면 0,0 즉, 화면 좌측 상단점이 중심이고, 거기에 저주파가 모여있음\n",
        "분석을 용이하기 위해 0,0을 이미지의 중심으로 이동시키고 log scaling을 하여\n",
        "분석이 용이한 결과값으로 변환\n",
        "\"\"\"\n",
        "f = np.fft.fft2(img)    #이미지에 푸리에 변환 적용\n",
        "fshift = np.fft.fftshift(f)   #주파수가 0인 부분을 중앙에 위치시킴\n",
        "magnitude_spectrum = 20*np.log(np.abs(fshift))  #spectrum 구하는 수학식\n",
        "\n",
        "rows, cols = img.shape\n",
        "crow, ccol = int(rows/2), int(cols/2)   #이미지의 중심 좌표\n",
        "\n",
        "#중앙에서 10x10 사이즈의 사각형의 값을 1로 설정함. 중앙의 저주파를 모두 제거\n",
        "#저주파를 제거하였기 때문에 배경이 사라지고 경계선만 남게 됨\n",
        "\n",
        "d = 10\n",
        "fshift[crow-d:crow+d, ccol-d:ccol+d] = 1\n",
        "\n",
        "#푸리에 변환 결과를 다시 이미지로 변환\n",
        "f_ishift = np.fft.ifftshift(fshift)\n",
        "img_back = np.fft.ifft2(f_ishift)\n",
        "img_back = np.abs(img_back)\n",
        "\n",
        "#threshold를 적용하기 위해 float type을 int type으로 변환\n",
        "img_new = np.uint8(img_back);\n",
        "ret, thresh = cv2.threshold(img_new, 30, 255, cv2.THRESH_BINARY_INV)\n",
        "\n",
        "plt.subplot(221), plt.imshow(img, cmap = 'gray')\n",
        "plt.title('Input Image'), plt.xticks([]), plt.yticks([])\n",
        "\n",
        "plt.subplot(222), plt.imshow(magnitude_spectrum, cmap ='gray')\n",
        "plt.title('Spectrum'), plt.xticks([]), plt.yticks([])\n",
        "\n",
        "plt.subplot(223), plt.imshow(img_back, cmap='gray')\n",
        "plt.title('FT'), plt.xticks([]), plt.yticks([])\n",
        "\n",
        "plt.subplot(224), plt.imshow(thresh, cmap = 'gray')\n",
        "plt.title('Threshold With FT'), plt.xticks([]), plt.yticks([])\n",
        "plt.show()"
      ],
      "execution_count": null,
      "outputs": [
        {
          "output_type": "display_data",
          "data": {
            "image/png": "[encoded data removed]",
            "text/plain": [
              "<Figure size 432x288 with 4 Axes>"
            ]
          },
          "metadata": {
            "tags": []
          }
        }
      ]
    },
    {
      "cell_type": "code",
      "metadata": {
        "id": "PT8KVBarDk-K",
        "colab_type": "code",
        "colab": {
          "base_uri": "https://localhost:8080/",
          "height": 244
        },
        "outputId": "92610b2e-d264-46ae-93c8-79fd0f1a9a55"
      },
      "source": [
        "import cv2\n",
        "import numpy as np\n",
        "\n",
        "img = cv2.imread('lenagray.png', 0)\n",
        "dft = cv2.dft(np.float32(img), flags = cv2.DFT_COMPLEX_OUTPUT)\n",
        "\n",
        "dft_shift = np.fft.fftshift(dft)\n",
        "magnitude_spectrum = 20*np.log(cv2.magnitude(dft_shift[:,:,0], dft_shift[:,:,1]))\n",
        "\n",
        "rows, cols = img.shape\n",
        "crow, ccol = int(rows/2), int(cols/2)\n",
        "\n",
        "d = 30\n",
        "mask = np.zeros((rows, cols, 2), np.uint8)\n",
        "mask[crow-d:crow+d, ccol-d:ccol+d] = 1\n",
        "\n",
        "fshift = dft_shift*mask\n",
        "f_ishift = np.fft.ifftshift(fshift)\n",
        "img_back =  cv2.idft(f_ishift)\n",
        "img_back = cv2.magnitude(img_back[:,:,0], img_back[:,:,1])\n",
        "\n",
        "plt.subplot(121), plt.imshow(img, cmap='gray')\n",
        "plt.title('Input Image'), plt.xticks([]), plt.yticks([])\n",
        "plt.subplot(122), plt.imshow(img_back, cmap='gray')\n",
        "plt.title('FT'),plt.xticks([]), plt.yticks([])\n",
        "plt.show()"
      ],
      "execution_count": null,
      "outputs": [
        {
          "output_type": "error",
          "ename": "TypeError",
          "evalue": "ignored",
          "traceback": [
            "\u001b[0;31m---------------------------------------------------------------------------\u001b[0m",
            "\u001b[0;31mTypeError\u001b[0m                                 Traceback (most recent call last)",
            "\u001b[0;32m<ipython-input-4-18ca92d0e32c>\u001b[0m in \u001b[0;36m<module>\u001b[0;34m()\u001b[0m\n\u001b[1;32m      3\u001b[0m \u001b[0;34m\u001b[0m\u001b[0m\n\u001b[1;32m      4\u001b[0m \u001b[0mimg\u001b[0m \u001b[0;34m=\u001b[0m \u001b[0mcv2\u001b[0m\u001b[0;34m.\u001b[0m\u001b[0mimread\u001b[0m\u001b[0;34m(\u001b[0m\u001b[0;34m'lenagray.png'\u001b[0m\u001b[0;34m,\u001b[0m \u001b[0;36m0\u001b[0m\u001b[0;34m)\u001b[0m\u001b[0;34m\u001b[0m\u001b[0;34m\u001b[0m\u001b[0m\n\u001b[0;32m----> 5\u001b[0;31m \u001b[0mdft\u001b[0m \u001b[0;34m=\u001b[0m \u001b[0mcv2\u001b[0m\u001b[0;34m.\u001b[0m\u001b[0mdft\u001b[0m\u001b[0;34m(\u001b[0m\u001b[0mnp\u001b[0m\u001b[0;34m.\u001b[0m\u001b[0mfloat32\u001b[0m\u001b[0;34m(\u001b[0m\u001b[0mimg\u001b[0m\u001b[0;34m)\u001b[0m\u001b[0;34m,\u001b[0m \u001b[0mflags\u001b[0m \u001b[0;34m=\u001b[0m \u001b[0mcv2\u001b[0m\u001b[0;34m.\u001b[0m\u001b[0mDFT_COMPLEX_OUTPUT\u001b[0m\u001b[0;34m)\u001b[0m\u001b[0;34m\u001b[0m\u001b[0;34m\u001b[0m\u001b[0m\n\u001b[0m\u001b[1;32m      6\u001b[0m \u001b[0;34m\u001b[0m\u001b[0m\n\u001b[1;32m      7\u001b[0m \u001b[0mdft_shift\u001b[0m \u001b[0;34m=\u001b[0m \u001b[0mnp\u001b[0m\u001b[0;34m.\u001b[0m\u001b[0mfft\u001b[0m\u001b[0;34m.\u001b[0m\u001b[0mfftshift\u001b[0m\u001b[0;34m(\u001b[0m\u001b[0mdft\u001b[0m\u001b[0;34m)\u001b[0m\u001b[0;34m\u001b[0m\u001b[0;34m\u001b[0m\u001b[0m\n",
            "\u001b[0;31mTypeError\u001b[0m: Expected Ptr<cv::UMat> for argument '%s'"
          ]
        }
      ]
    },
    {
      "cell_type": "markdown",
      "metadata": {
        "id": "9TjP0H2GSh5V",
        "colab_type": "text"
      },
      "source": [
        ""
      ]
    }
  ]
}